{
 "cells": [
  {
   "cell_type": "markdown",
   "metadata": {},
   "source": [
    "# Matrix Multiplication in Spark (pyspark)\n",
    "\n",
    "\\begin{equation*}\n",
    " \\mathbf{P} = \\mathbf{A} \\times \\mathbf{B}\n",
    "\\end{equation*}\n",
    "\n",
    "\\begin{equation*}\n",
    "\\begin{vmatrix}\n",
    "\\mathbf{a}_{0,0} & \\mathbf{a}_{0,1} & \\mathbf{a}_{0,2}\\\\\n",
    "\\mathbf{a}_{1,0} & \\mathbf{a}_{1,1} & \\mathbf{a}_{1,2}\\\\\n",
    "\\end{vmatrix} \\\n",
    "\\\n",
    "\\times\n",
    "\\\n",
    "\\begin{vmatrix}\n",
    "\\mathbf{b}_{0,0} & \\mathbf{b}_{0,1} \\\\\n",
    "\\mathbf{b}_{1,0} & \\mathbf{b}_{1,1} \\\\\n",
    "\\mathbf{b}_{2,0} & \\mathbf{b}_{2,1} \\\\\n",
    "\\end{vmatrix} \n",
    "\\\n",
    "=\n",
    "\\\n",
    "\\begin{vmatrix}\n",
    " \\mathbf{a}_{0,0} \\times \\mathbf{b}_{0,0} + \\\n",
    " \\mathbf{a}_{0,1} \\times \\mathbf{b}_{1,0} + \\\n",
    " \\mathbf{a}_{0,2} \\times \\mathbf{b}_{2,0}  &\\\n",
    " \\\n",
    " \\mathbf{a}_{0,0} \\times \\mathbf{b}_{0,1} + \\\n",
    " \\mathbf{a}_{0,1} \\times \\mathbf{b}_{1,1} + \\\n",
    " \\mathbf{a}_{0,2} \\times \\mathbf{b}_{2,1}  \\\n",
    " \\\n",
    "\\\\\n",
    " \\mathbf{a}_{1,0} \\times \\mathbf{b}_{0,0} + \\\n",
    " \\mathbf{a}_{1,1} \\times \\mathbf{b}_{1,0} + \\\n",
    " \\mathbf{a}_{1,2} \\times \\mathbf{b}_{2,0}  &\\\n",
    " \\\n",
    " \\mathbf{a}_{1,0} \\times \\mathbf{b}_{0,1} + \\\n",
    " \\mathbf{a}_{1,1} \\times \\mathbf{b}_{1,1} +\\\n",
    " \\mathbf{a}_{1,2} \\times \\mathbf{b}_{2,1}  \\\n",
    " \\\n",
    "\\end{vmatrix}\n",
    "\\end{equation*}"
   ]
  },
  {
   "cell_type": "markdown",
   "metadata": {},
   "source": [
    "For matrices **A** of size $m \\times n$  and **B** of size $n \\times o$ then their dot-product **P** is of size $m \\times o$\n",
    "\n",
    "The Element of P on line $i$ and row $j$ is defined by the following formula (where $n$ refers to the number of the shared dimention between A and B - the # of columnts of A or the # of rows of B)\n",
    "\n",
    "\\begin{equation*}\n",
    "\\mathbf{p}_{i, j} = \\sum_{k=0}^{n} \\mathbf{a}_{i,k} \\times  \\mathbf{b}_{k,j} \n",
    "\\end{equation*} \n",
    "\n",
    "That is, each element $\\mathbf{p}_{i,j}$ depends on the (whole) i-th line of $A$  ( $\\mathbf{a}_{i,*}$ )  and the (whole) $j$-th column of $B$  ( $\\mathbf{b}_{*,j}$ )"
   ]
  },
  {
   "cell_type": "markdown",
   "metadata": {},
   "source": [
    "### Import pySpark libs "
   ]
  },
  {
   "cell_type": "code",
   "execution_count": 1,
   "metadata": {
    "collapsed": true
   },
   "outputs": [],
   "source": [
    "import numpy as np\n",
    "from pyspark import SparkContext, SparkConf\n",
    "conf = SparkConf().setAppName('MatMul').setMaster('local[*]')\n",
    "sc = SparkContext.getOrCreate(conf=conf)"
   ]
  },
  {
   "cell_type": "markdown",
   "metadata": {},
   "source": [
    "### Create Tables $A$ and $B$"
   ]
  },
  {
   "cell_type": "code",
   "execution_count": 2,
   "metadata": {},
   "outputs": [
    {
     "data": {
      "text/plain": [
       "array([[ 7,  2, 99],\n",
       "       [58, 96, 42]])"
      ]
     },
     "execution_count": 2,
     "metadata": {},
     "output_type": "execute_result"
    }
   ],
   "source": [
    "# The `m`, `n` and `o`  dimensions of the tables\n",
    "m = 2\n",
    "n = 3\n",
    "o = 2\n",
    "\n",
    "a_shape = (m,n)\n",
    "b_shape = (n,o)\n",
    "\n",
    "\n",
    "A = np.random.randint(100, size = a_shape)\n",
    "B = np.random.randint(100, size = b_shape)\n",
    "A"
   ]
  },
  {
   "cell_type": "markdown",
   "metadata": {},
   "source": [
    "### Helper functions for sparse matrices\n",
    "\n",
    "In a real life scenario, we would use one of the sparse matrix libraries of [scipy](https://docs.scipy.org/doc/scipy/reference/sparse.html)\n",
    "or [Spark](https://spark.apache.org/docs/2.3.0/api/java/org/apache/spark/mllib/linalg/SparseMatrix.html) / [pySpark](http://spark.apache.org/docs/2.3.0/api/python/pyspark.mllib.html#pyspark.mllib.linalg.SparseMatrix).  \n",
    "But for this notebook, let's use a custom sparse representation, where a matrix `M` is represented by a list of its elements, and each element is represented as a tuple: `((x, y), val)`.   \n",
    "`x`,`y` being its coordinates and `val` its value."
   ]
  },
  {
   "cell_type": "code",
   "execution_count": 3,
   "metadata": {},
   "outputs": [
    {
     "data": {
      "text/plain": [
       "[((0, 0), 7),\n",
       " ((0, 1), 2),\n",
       " ((0, 2), 99),\n",
       " ((1, 0), 58),\n",
       " ((1, 1), 96),\n",
       " ((1, 2), 42)]"
      ]
     },
     "execution_count": 3,
     "metadata": {},
     "output_type": "execute_result"
    }
   ],
   "source": [
    "\"\"\"Helper fn for creating a sparse matrix (in our custom format),\n",
    "from a NumPy array\"\"\"\n",
    "def sparsify(a):\n",
    "    rv = []\n",
    "    for i, line in enumerate(a):\n",
    "        for (j, elem) in enumerate(line):\n",
    "            if elem!=0: rv.append(((i,j),elem))\n",
    "    return rv\n",
    "        \n",
    "sparse_A = sparsify(A)\n",
    "sparse_B = sparsify(B)\n",
    "sparse_A"
   ]
  },
  {
   "cell_type": "code",
   "execution_count": 4,
   "metadata": {},
   "outputs": [
    {
     "data": {
      "text/plain": [
       "True"
      ]
     },
     "execution_count": 4,
     "metadata": {},
     "output_type": "execute_result"
    }
   ],
   "source": [
    "\"\"\"Helper fn for creating a NumPy array from our\n",
    "custom sparse matrix format\"\"\"\n",
    "def densify(sparse, shape):\n",
    "    a = np.zeros(shape)\n",
    "    for (i, j), e in sparse:\n",
    "        a[i][j] = e\n",
    "    return a\n",
    "\n",
    "# Let's do a sanity check, testing whether our \n",
    "# densified version of sparse_A equals A.\n",
    "np.array_equal(A, densify(sparse_A, a_shape))"
   ]
  },
  {
   "cell_type": "markdown",
   "metadata": {},
   "source": [
    "### Find out dependencies for each element ${p}_{i,j}$\n",
    "\n",
    "As previously stated for $P = A \\times B$, where \n",
    " * $A$ is of shape $m \\times n$\n",
    " * $B$ is of shape $n \\times o$\n",
    " * $P$ is of shape $m \\times o$\n",
    "\n",
    "Then, we have:\n",
    "  >each element $\\mathbf{p}_{i,j}$ depends on the $i$-th line of A and the $j$-th column of B\n",
    "\n",
    "This can be restated as:\n",
    " * All of the $o$ elements of every line, $\\mathbf{p}_{i,*}$, depend on all of the elements of the corresponding line of $A$\n",
    " * All of the $m$ elements of every column,  $\\mathbf{p}_{*,j}$   depend on all of the elements of each corresponding column of $B$\n",
    " \n",
    "Taking it one more step:\n",
    " * Each element (of each line) of $A$ appears $o$ times in the corresponding line of $P$\n",
    " * Each element (of each column) of $B$ appears $m$ times in the corresponding column of $P$\n",
    " \n",
    "\n",
    "And, in conclusion:\n",
    " * Each element $\\mathbf{a}_{i,k}$ of $A$ is repeated $o$ times on the $i$-th line of $P$ (one for each of the $o$ columns of $P$)\n",
    " * Each element $\\mathbf{b}_{k,j}$ of $A$ is repeated $m$ times on the $j$-th column of $P$ (one for each of the $m$ lines of $P$)\n",
    " \n"
   ]
  },
  {
   "cell_type": "markdown",
   "metadata": {},
   "source": [
    "## Repeating Elements of $A$ and $b$:\n",
    "\n",
    "In order to calculate $P$, in the general case where we can't make the assumption that either $A$ or $B$\n",
    "can fully fit in memory, we need to seperately calculate each element $p_{i,j}$.  \n",
    "Rembember, each element of a table is represented as a tuple of `((i,k), Aik)` where `i` and `k` are the line/column indices and `Aik` is the value of the element.\n",
    "\n",
    "**Intermediate Data:**\n",
    "\n",
    "We'll create an intermediate set of data, after repeating the elements of $A$ and $B$, before calculating the elemens of $P$.  \n",
    "For the intermediate data we will introduce a new representation: `((i,j),(k, Aik))` and equivantly `((i,j),(k, Bkj))`, where `(i,j)` are the coordinates of the element of $P$ for which the intermediate element will be used. \n",
    "\n",
    "This representation will later help us compute  \\begin{equation*}  \\sum_{k=0}^{n} \\mathbf{a}_{i,k} \\times  \\mathbf{b}_{k,j} \\end{equation*}  for each element $\\mathbf{p}_{i,j}$ of $P$\n",
    "\n",
    "**Note:** We are using `k` to signify the *column* index of $A$, as well as the *line* index of $B$. We will later use this (common) index for computing the product $\\mathbf{a}_{i,k} \\times  \\mathbf{b}_{k,j}$, but, for now, we are just keeping track of it in the intermediate results.\n"
   ]
  },
  {
   "cell_type": "markdown",
   "metadata": {},
   "source": [
    "### $A$'s intermediate data\n",
    "Each element of $A$, $\\mathbf{a}_{i,k}$, needs to be repeated accross the $o$ columns of P.  \n",
    "(Note that $o$ is also the column dimension of B, and that's how we know it)"
   ]
  },
  {
   "cell_type": "code",
   "execution_count": 5,
   "metadata": {},
   "outputs": [],
   "source": [
    "a_rdd = sc.parallelize(sparse_A)\n",
    "\n",
    "def a_mapper(elem):\n",
    "    # decompose the element to its coordinates\n",
    "    # and value\n",
    "    (i, k), Aik = elem\n",
    "    \n",
    "    # retrive the value of `o` from B's shape\n",
    "    o = b_shape[1]\n",
    "\n",
    "    acc = [] # an accumulator for all of the yielded elements\n",
    "    for j in range(o):\n",
    "        interm_elem = ((i,j),(k, Aik))\n",
    "        acc.append(interm_elem)\n",
    "    return acc\n",
    "\n",
    "a_interm = a_rdd.flatMap(a_mapper)"
   ]
  },
  {
   "cell_type": "markdown",
   "metadata": {},
   "source": [
    "### $B$'s intermediate data\n",
    "Each element of B , $\\mathbf{b}_{k,j}$ needs to be repeated accross the $m$ lines of P.  \n",
    "(Note that $m$ is also the line dimension of A, and that's how we know it)\n",
    "We are following the symmetric process that we did for $A$, only this time alternating $k$ to\n",
    "be the line-number of $B$'s element, instead of the column number."
   ]
  },
  {
   "cell_type": "code",
   "execution_count": 6,
   "metadata": {},
   "outputs": [],
   "source": [
    "b_rdd = sc.parallelize(sparse_B)\n",
    "\n",
    "def b_mapper(elem):\n",
    "    (k, j), Bkj = elem\n",
    "    m = a_shape[0]\n",
    "    acc = []\n",
    "    for i in range(m):\n",
    "        interm_elem = ((i,j),(k, Bkj))\n",
    "        acc.append(interm_elem)\n",
    "    return acc\n",
    "\n",
    "b_interm = b_rdd.flatMap(b_mapper)"
   ]
  },
  {
   "cell_type": "markdown",
   "metadata": {},
   "source": [
    "Merge $A$'s and $B$'s intermedate data"
   ]
  },
  {
   "cell_type": "code",
   "execution_count": 7,
   "metadata": {
    "collapsed": true
   },
   "outputs": [],
   "source": [
    "p_interm = a_interm.union(b_interm)"
   ]
  },
  {
   "cell_type": "markdown",
   "metadata": {},
   "source": [
    "## Group the intermediate data\n",
    "In this step we will put the intermediate data we need in order to compute each element of $P$ together.  \n",
    "Since our intermedate representation is structured as, `((i,j),(k, value))`, we just need to group together the itnermediate elements with the same `(i,j)`, and thus, we use RDD's built-in fn: `groupByKey`."
   ]
  },
  {
   "cell_type": "code",
   "execution_count": 8,
   "metadata": {
    "collapsed": true
   },
   "outputs": [],
   "source": [
    "p_grouped = p_interm.groupByKey()"
   ]
  },
  {
   "cell_type": "markdown",
   "metadata": {},
   "source": [
    " Note that `groupByKey` creates yet another intermediate representation for the  `p_grouped` RDD, that has the following format:\n",
    "```\n",
    "((i,j), ((k1, value1), (k2, value2)...))\n",
    "```"
   ]
  },
  {
   "cell_type": "code",
   "execution_count": 9,
   "metadata": {},
   "outputs": [
    {
     "name": "stdout",
     "output_type": "stream",
     "text": [
      "(0, 1)\n",
      "[(0, 7), (1, 2), (2, 99), (0, 21), (1, 94), (2, 9)]\n"
     ]
    }
   ],
   "source": [
    "index, elements = p_grouped.first()\n",
    "print(index)\n",
    "print(list(elements))"
   ]
  },
  {
   "cell_type": "markdown",
   "metadata": {},
   "source": [
    "## Calculate each element of P"
   ]
  },
  {
   "cell_type": "markdown",
   "metadata": {},
   "source": [
    "For element $\\mathbf{p}_{i,j}$ of $P$ we need to compute: \\begin{equation*}  \\sum_{k=0}^{n} \\mathbf{a}_{i,k} \\times  \\mathbf{b}_{k,j} \\end{equation*}\n",
    "\n",
    "So, we must allign the elements of $A$ and $B$ according to $k$\n",
    "\n",
    "Eg. for element $\\mathbf{p}_{0,1}$ we need to compute: \n",
    "($\\mathbf{a}_{0,0} \\times \\mathbf{b}_{0,1} + \\mathbf{a}_{0,1} \\times \\mathbf{b}_{1,1} + \\mathbf{a}_{0,2} \\times \\mathbf{b}_{2,1}$)\n",
    "\n",
    "Note that if for some $k$ we have an odd intermediate element (aka. only from one of $A$ or $B$) then we need to discard that element.   \n",
    "(Our sparse representation implies that if a number in the original matrices has a 0 value, then it's ommited in the resulting list of tuples. This means that when performing this here grouping, the will end up with only one of the tables contributing a value for one of the multiplications of,eg: $\\mathbf{a}_{0,0} \\times \\mathbf{b}_{0,1} + \\mathbf{a}_{0,1} \\times \\mathbf{b}_{1,1} + ...$)"
   ]
  },
  {
   "cell_type": "code",
   "execution_count": 10,
   "metadata": {
    "collapsed": true
   },
   "outputs": [],
   "source": [
    "def calculate_element(tup):\n",
    "    idx, vals = tup\n",
    "    acc ={}\n",
    "    for k,v in vals:\n",
    "        if k in acc:\n",
    "            acc[k].append(v)\n",
    "        else:\n",
    "            acc[k] = [v]\n",
    "\n",
    "    # discard odd elements \n",
    "    even_elems = { k: v for k,v in acc.items() if len(v) != 1 }\n",
    "    \n",
    "    Pij = 0\n",
    "    for Aik, Bkj in even_elems.values():\n",
    "        Pij += Aik * Bkj \n",
    "            \n",
    "    return (idx, Pij)"
   ]
  },
  {
   "cell_type": "markdown",
   "metadata": {},
   "source": [
    "Lets use `calculate_element` to calculate a single element of $P$"
   ]
  },
  {
   "cell_type": "code",
   "execution_count": 11,
   "metadata": {},
   "outputs": [
    {
     "data": {
      "text/plain": [
       "((0, 1), 1226)"
      ]
     },
     "execution_count": 11,
     "metadata": {},
     "output_type": "execute_result"
    }
   ],
   "source": [
    "calculate_element(p_grouped.first())"
   ]
  },
  {
   "cell_type": "markdown",
   "metadata": {},
   "source": [
    "And now lets ccalculate all elements of $P$:"
   ]
  },
  {
   "cell_type": "code",
   "execution_count": 12,
   "metadata": {},
   "outputs": [],
   "source": [
    "sparse_P = p_grouped.map(calculate_element).collect()"
   ]
  },
  {
   "cell_type": "markdown",
   "metadata": {},
   "source": [
    "Finally, let's create a dense version of $P$ and validate that it's indeed equal to the dot-product of $A \\times B$ as caclulated by NumPy"
   ]
  },
  {
   "cell_type": "code",
   "execution_count": 13,
   "metadata": {},
   "outputs": [
    {
     "data": {
      "text/plain": [
       "True"
      ]
     },
     "execution_count": 13,
     "metadata": {},
     "output_type": "execute_result"
    }
   ],
   "source": [
    "p_shape = (m, o)\n",
    "P = densify(sparse_P, p_shape)\n",
    "\n",
    "np.array_equal(P, A.dot(B))"
   ]
  },
  {
   "cell_type": "markdown",
   "metadata": {
    "collapsed": true
   },
   "source": [
    "That's it! We have calculated $P$ element-by-element and verified its value."
   ]
  }
 ],
 "metadata": {
  "kernelspec": {
   "display_name": "Python 3",
   "language": "python",
   "name": "python3"
  },
  "language_info": {
   "codemirror_mode": {
    "name": "ipython",
    "version": 3
   },
   "file_extension": ".py",
   "mimetype": "text/x-python",
   "name": "python",
   "nbconvert_exporter": "python",
   "pygments_lexer": "ipython3",
   "version": "3.6.1"
  }
 },
 "nbformat": 4,
 "nbformat_minor": 2
}
